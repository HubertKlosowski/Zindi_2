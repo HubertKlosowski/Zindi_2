{
 "cells": [
  {
   "cell_type": "code",
   "id": "initial_id",
   "metadata": {
    "collapsed": true
   },
   "source": [
    "import pandas as pd\n",
    "import numpy as np\n",
    "import matplotlib.pyplot as plt\n",
    "import seaborn as sns\n",
    "import os\n",
    "from haversine import haversine"
   ],
   "outputs": [],
   "execution_count": null
  },
  {
   "metadata": {},
   "cell_type": "code",
   "source": [
    "train = pd.read_csv(os.path.join('data', 'train.csv'))\n",
    "test = pd.read_csv(os.path.join('data', 'test.csv'))\n",
    "\n",
    "train.info()"
   ],
   "id": "8addb47204889643",
   "outputs": [],
   "execution_count": null
  },
  {
   "metadata": {},
   "cell_type": "code",
   "source": [
    "train_points = train[['LAT', 'LON']].drop_duplicates()\n",
    "test_points = test[['LAT', 'LON']].drop_duplicates()\n",
    "closest_to_test = pd.DataFrame()\n",
    "\n",
    "for i, test_point in test_points.iterrows():\n",
    "    distances = [haversine(test_point, train_point) for _, train_point in train_points.iterrows()]\n",
    "    min_dst = pd.concat([train_points, pd.DataFrame(distances, columns=['dst'])], axis=1).nsmallest(3, 'dst')\n",
    "    min_dst.drop(columns=['dst'], inplace=True)\n",
    "    closest_to_test = pd.concat([closest_to_test, min_dst], axis=0)"
   ],
   "id": "84f418a088234730",
   "outputs": [],
   "execution_count": null
  },
  {
   "metadata": {},
   "cell_type": "code",
   "source": "closest_to_test",
   "id": "c30c49ad18215a64",
   "outputs": [],
   "execution_count": null
  },
  {
   "metadata": {},
   "cell_type": "code",
   "source": [
    "only_close = train.loc[train['LAT'].isin(closest_to_test['LAT']) | train['LON'].isin(closest_to_test['LON']), :]\n",
    "only_close.dropna(subset=['GT_NO2'], inplace=True)\n",
    "only_close.to_csv(os.path.join('data', 'only_close.csv'), index=False)"
   ],
   "id": "5bcfe4d19d1d350d",
   "outputs": [],
   "execution_count": null
  },
  {
   "metadata": {},
   "cell_type": "code",
   "source": "only_close.info()",
   "id": "4f74de86ee42099c",
   "outputs": [],
   "execution_count": null
  }
 ],
 "metadata": {
  "kernelspec": {
   "display_name": "Python 3",
   "language": "python",
   "name": "python3"
  },
  "language_info": {
   "codemirror_mode": {
    "name": "ipython",
    "version": 2
   },
   "file_extension": ".py",
   "mimetype": "text/x-python",
   "name": "python",
   "nbconvert_exporter": "python",
   "pygments_lexer": "ipython2",
   "version": "2.7.6"
  }
 },
 "nbformat": 4,
 "nbformat_minor": 5
}
