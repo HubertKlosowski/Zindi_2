{
 "cells": [
  {
   "cell_type": "code",
   "id": "8f12465a43248c0a",
   "metadata": {},
   "source": [
    "import matplotlib.pyplot as plt\n",
    "import pandas as pd\n",
    "import os"
   ],
   "outputs": [],
   "execution_count": null
  },
  {
   "metadata": {
    "collapsed": true
   },
   "cell_type": "code",
   "source": [
    "train = pd.read_csv(os.path.join('data', 'train.csv'))\n",
    "train['Date'] = pd.to_datetime(train['Date'], format='mixed')\n",
    "\n",
    "train.info()"
   ],
   "id": "initial_id",
   "outputs": [],
   "execution_count": null
  },
  {
   "metadata": {},
   "cell_type": "code",
   "source": [
    "unique_train_locations = train.groupby(['LAT', 'LON'])['GT_NO2'].mean().reset_index()\n",
    "nans = train.loc[train['GT_NO2'].isna() == True, ['LAT', 'LON']].value_counts().to_frame().reset_index()\n",
    "unique_train_locations = pd.merge(unique_train_locations, nans, on=['LAT', 'LON'], how='outer')\n",
    "unique_train_locations.rename({'count': 'Nans'}, axis=1, inplace=True)\n",
    "unique_train_locations['Nans'] = unique_train_locations['Nans'].apply(lambda x: round(x / 10.96, 2))\n",
    "\n",
    "unique_train_locations"
   ],
   "id": "6a2ba4a1d1eef9a2",
   "outputs": [],
   "execution_count": null
  },
  {
   "metadata": {},
   "cell_type": "code",
   "source": [
    "ok_nans = unique_train_locations.loc[\n",
    "    (unique_train_locations['Nans'] <= 5.0), \n",
    "    ['LAT', 'LON']\n",
    "]\n",
    "\n",
    "train = train.merge(ok_nans, on=['LAT', 'LON'], how='inner')\n",
    "\n",
    "train.info()"
   ],
   "id": "f1a659254c6b095d",
   "outputs": [],
   "execution_count": null
  },
  {
   "metadata": {},
   "cell_type": "code",
   "source": [
    "from statsmodels.graphics.tsaplots import plot_acf\n",
    "\n",
    "\n",
    "groups = train.groupby(['LAT', 'LON'])\n",
    "\n",
    "for name, group in groups:\n",
    "    group.set_index('Date', inplace=True)\n",
    "    plot_acf(x=group['GT_NO2'], lags=7, title=f'{name}', missing='drop')\n",
    "    plt.show()"
   ],
   "id": "b1cf5f1cdac27b17",
   "outputs": [],
   "execution_count": null
  }
 ],
 "metadata": {
  "kernelspec": {
   "display_name": "Python 3",
   "language": "python",
   "name": "python3"
  },
  "language_info": {
   "codemirror_mode": {
    "name": "ipython",
    "version": 2
   },
   "file_extension": ".py",
   "mimetype": "text/x-python",
   "name": "python",
   "nbconvert_exporter": "python",
   "pygments_lexer": "ipython2",
   "version": "2.7.6"
  }
 },
 "nbformat": 4,
 "nbformat_minor": 5
}
