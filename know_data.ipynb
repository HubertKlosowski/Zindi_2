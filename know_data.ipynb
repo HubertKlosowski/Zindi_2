{
 "cells": [
  {
   "metadata": {},
   "cell_type": "markdown",
   "source": [
    "## GeoAI Ground-level NO2 Estimation Challenge by ITU\n",
    "\n",
    "### Author: Hubert Kłosowski 242424"
   ],
   "id": "f0aabc38d6194d97"
  },
  {
   "cell_type": "code",
   "id": "initial_id",
   "metadata": {
    "collapsed": true
   },
   "source": [
    "import pandas as pd\n",
    "import numpy as np\n",
    "import matplotlib.pyplot as plt\n",
    "import seaborn as sns\n",
    "import os"
   ],
   "outputs": [],
   "execution_count": null
  },
  {
   "metadata": {},
   "cell_type": "markdown",
   "source": "### Load data",
   "id": "23cf930fc71c9e50"
  },
  {
   "metadata": {},
   "cell_type": "code",
   "source": [
    "train = pd.read_csv(os.path.join('data', 'train.csv'))\n",
    "test = pd.read_csv(os.path.join('data', 'test.csv'))"
   ],
   "id": "1f81eac637fdb080",
   "outputs": [],
   "execution_count": null
  },
  {
   "metadata": {},
   "cell_type": "code",
   "source": "train.info()",
   "id": "e701b0e967770c71",
   "outputs": [],
   "execution_count": null
  },
  {
   "metadata": {},
   "cell_type": "code",
   "source": "test.info()",
   "id": "4292f017cfe37df1",
   "outputs": [],
   "execution_count": null
  },
  {
   "metadata": {},
   "cell_type": "markdown",
   "source": "### Extract date info",
   "id": "6a7791a54591251e"
  },
  {
   "metadata": {},
   "cell_type": "code",
   "source": [
    "def extract_date_info(dataframe):\n",
    "    dataframe['Date'] = pd.to_datetime(dataframe['Date'], format='mixed')\n",
    "    dataframe['DayOfWeek'] = dataframe['Date'].dt.dayofweek.astype('category')\n",
    "    dataframe['Month'] = dataframe['Date'].dt.month.astype('category')\n",
    "    dataframe['Year'] = dataframe['Date'].dt.year.astype('category')\n",
    "    dataframe['Week'] = dataframe['Date'].dt.isocalendar().week.astype('category')\n",
    "    dataframe['Season'] = get_season(dataframe['Date']).astype('category')\n",
    "    return dataframe\n",
    "\n",
    "def get_season(date_series):\n",
    "    spring = ((date_series.dt.month == 3) & (date_series.dt.day >= 20)) | ((date_series.dt.month > 3) & (date_series.dt.month < 6)) | ((date_series.dt.month == 6) & (date_series.dt.day <= 20))\n",
    "    summer = ((date_series.dt.month == 6) & (date_series.dt.day >= 21)) | ((date_series.dt.month > 6) & (date_series.dt.month < 9)) | ((date_series.dt.month == 9) & (date_series.dt.day <= 22))\n",
    "    autumn = ((date_series.dt.month == 9) & (date_series.dt.day >= 23)) | ((date_series.dt.month > 9) & (date_series.dt.month < 12)) | ((date_series.dt.month == 12) & (date_series.dt.day <= 20))\n",
    "    \n",
    "    season_series = pd.Series(0, index=date_series.index)  # Domyślnie 0 dla wiosny\n",
    "    season_series.loc[summer] = 1  # Lato\n",
    "    season_series.loc[autumn] = 2  # Jesień\n",
    "    season_series.loc[~(spring | summer | autumn)] = 3  # Zima\n",
    "    \n",
    "    return season_series\n",
    "\n",
    "train = extract_date_info(train)\n",
    "test = extract_date_info(test)"
   ],
   "id": "c24dddc52a93b86b",
   "outputs": [],
   "execution_count": null
  },
  {
   "metadata": {},
   "cell_type": "markdown",
   "source": "### Target values in day of week",
   "id": "532f70eab5674371"
  },
  {
   "metadata": {},
   "cell_type": "code",
   "source": [
    "import matplotlib.patches as mpatches\n",
    "\n",
    "\n",
    "def compare_plots(column_name):\n",
    "    fig, ax = plt.subplots(nrows=1, ncols=2, figsize=(25, 15))\n",
    "    \n",
    "    sns.barplot(data=train, x=column_name, y='GT_NO2', ax=ax[0], color='blue')\n",
    "    sns.barplot(data=train, x=column_name, y='NO2_trop', ax=ax[1], color='blue')\n",
    "    sns.barplot(data=test, x=column_name, y='NO2_trop', ax=ax[1], color='orange')\n",
    "    \n",
    "    train_patch = mpatches.Patch(color='blue', label='Train')\n",
    "    test_patch = mpatches.Patch(color='orange', label='Test')\n",
    "    \n",
    "    ax[1].legend(handles=[train_patch, test_patch], title='NO2_trop', loc='upper right')\n",
    "    plt.show()\n",
    "    \n",
    "\n",
    "compare_plots('DayOfWeek')"
   ],
   "id": "86d2415fde735c00",
   "outputs": [],
   "execution_count": null
  },
  {
   "metadata": {},
   "cell_type": "markdown",
   "source": "### Target values in months",
   "id": "a75dfe1206eb50d0"
  },
  {
   "metadata": {},
   "cell_type": "code",
   "source": "compare_plots('Month')",
   "id": "f379bd2454f6cd1b",
   "outputs": [],
   "execution_count": null
  },
  {
   "metadata": {},
   "cell_type": "markdown",
   "source": "### Target values in years",
   "id": "f749f358ee995132"
  },
  {
   "metadata": {},
   "cell_type": "code",
   "source": "compare_plots('Year')",
   "id": "ff06cd2eea276a80",
   "outputs": [],
   "execution_count": null
  },
  {
   "metadata": {},
   "cell_type": "markdown",
   "source": "### Target values in weeks",
   "id": "3a861a42bc18e54b"
  },
  {
   "metadata": {},
   "cell_type": "code",
   "source": "compare_plots('Week')",
   "id": "9a9c121158db58f5",
   "outputs": [],
   "execution_count": null
  },
  {
   "metadata": {},
   "cell_type": "markdown",
   "source": "### Target values in seasons",
   "id": "e627a78205c65a60"
  },
  {
   "metadata": {},
   "cell_type": "code",
   "source": "compare_plots('Season')",
   "id": "6680c53780a5267f",
   "outputs": [],
   "execution_count": null
  },
  {
   "metadata": {},
   "cell_type": "markdown",
   "source": "### Map of id's in train dataset",
   "id": "d5d3e93aa0cc9637"
  },
  {
   "metadata": {},
   "cell_type": "code",
   "source": [
    "import folium\n",
    "\n",
    "\n",
    "my_map = folium.Map(\n",
    "    location=(train['LAT'].mean(), train['LON'].mean()),\n",
    "    zoom_start=7,\n",
    ")"
   ],
   "id": "59fe2b69ec2d8caa",
   "outputs": [],
   "execution_count": null
  },
  {
   "metadata": {},
   "cell_type": "markdown",
   "source": "### Train Locations",
   "id": "dc83e8d29cdf84d9"
  },
  {
   "metadata": {},
   "cell_type": "code",
   "source": [
    "unique_train_locations = train.groupby(['LAT', 'LON'])['GT_NO2'].mean().reset_index()\n",
    "nans = train.loc[train['GT_NO2'].isna() == True, ['LAT', 'LON']].value_counts().to_frame().reset_index()\n",
    "unique_train_locations = pd.merge(unique_train_locations, nans, on=['LAT', 'LON'], how='outer')\n",
    "unique_train_locations.rename({'count': 'Nans'}, axis=1, inplace=True)\n",
    "unique_train_locations['Nans'] = unique_train_locations['Nans'].apply(lambda x: round(x / 10.96, 2))\n",
    "\n",
    "unique_train_locations"
   ],
   "id": "66ce48de9a179ad",
   "outputs": [],
   "execution_count": null
  },
  {
   "metadata": {},
   "cell_type": "code",
   "source": [
    "layer_train_map = folium.FeatureGroup(name='Train Locations', show=False)\n",
    "for index, row in unique_train_locations.iterrows():\n",
    "    popup_html = f\"\"\"\n",
    "    <div style=\"font-family: Arial; font-size: 14px;\">\n",
    "        <strong>Mean GT_NO2 level:</strong> {row[\"GT_NO2\"]:.2f}<br>\n",
    "        <strong>Latitude:</strong> {row[\"LAT\"]}<br>\n",
    "        <strong>Longitude:</strong> {row[\"LON\"]}<br>\n",
    "        <strong>Percent of nans:</strong> {row['Nans']} %\n",
    "    </div>\n",
    "    \"\"\"\n",
    "    popup = folium.Popup(popup_html, max_width=300)\n",
    "    if row['Nans'] > 10:\n",
    "        folium.Marker(\n",
    "            location=[row['LAT'], row['LON']],\n",
    "            icon=folium.Icon(color='green', icon_color='black', icon='home'),\n",
    "            popup=popup,\n",
    "        ).add_to(layer_train_map)\n",
    "    else:\n",
    "        folium.Marker(\n",
    "            location=[row['LAT'], row['LON']],\n",
    "            icon=folium.Icon(color='green', icon='home'),\n",
    "            popup=popup,\n",
    "        ).add_to(layer_train_map)\n",
    "    \n",
    "layer_train_map.add_to(my_map)"
   ],
   "id": "7762b1fe93999744",
   "outputs": [],
   "execution_count": null
  },
  {
   "metadata": {},
   "cell_type": "markdown",
   "source": "### Test Locations",
   "id": "e5e17582e6ec4ee0"
  },
  {
   "metadata": {},
   "cell_type": "code",
   "source": [
    "unique_test_locations = test[['LAT', 'LON']].drop_duplicates()\n",
    "\n",
    "layer_test_map = folium.FeatureGroup(name='Test Locations', show=False)\n",
    "for index, row in unique_test_locations.iterrows():\n",
    "    popup_html = f\"\"\"\n",
    "    <div style=\"font-family: Arial; font-size: 14px;\">\n",
    "        <strong>Latitude:</strong> {row[\"LAT\"]}<br>\n",
    "        <strong>Longitude:</strong> {row[\"LON\"]}\n",
    "    </div>\n",
    "    \"\"\"\n",
    "    popup = folium.Popup(popup_html, max_width=300)\n",
    "    folium.Marker(\n",
    "        location=[row['LAT'], row['LON']],\n",
    "        icon=folium.Icon(color='red', icon='home'),\n",
    "        popup=popup,\n",
    "    ).add_to(layer_test_map)\n",
    "    \n",
    "layer_test_map.add_to(my_map)"
   ],
   "id": "dda023fa14e0ab46",
   "outputs": [],
   "execution_count": null
  },
  {
   "metadata": {},
   "cell_type": "code",
   "source": [
    "folium.LayerControl().add_to(my_map)\n",
    "my_map.save('my_map.html')"
   ],
   "id": "3ee799f292d36a50",
   "outputs": [],
   "execution_count": null
  },
  {
   "metadata": {},
   "cell_type": "markdown",
   "source": [
    "### Do sth with NaNs in GT_NO2\n",
    "\n",
    "- drop\n",
    "- interpolate but only for locations that have 10% NaNs"
   ],
   "id": "c587e773ed91973"
  },
  {
   "metadata": {},
   "cell_type": "code",
   "source": [
    "ok_nans = unique_train_locations.loc[unique_train_locations['Nans'] <= 10.0, ['LAT', 'LON']]\n",
    "train = train.merge(ok_nans, on=['LAT', 'LON'], how='inner')\n",
    "groups = train.groupby(['LAT', 'LON'])\n",
    "\n",
    "for name, group in groups:\n",
    "    group.set_index('Date', inplace=True)\n",
    "    group['GT_NO2'] = group['GT_NO2'].interpolate(method='time')\n",
    "    \n",
    "train = pd.concat([group for name, group in groups])\n",
    "\n",
    "train.dropna(subset=['GT_NO2'], inplace=True)\n",
    "train.reset_index(drop=True, inplace=True)\n",
    "\n",
    "train.head()"
   ],
   "id": "151c39a6ad58bec2",
   "outputs": [],
   "execution_count": null
  },
  {
   "metadata": {},
   "cell_type": "markdown",
   "source": "### Distribution of values",
   "id": "8c52cbed50f67e3b"
  },
  {
   "metadata": {},
   "cell_type": "code",
   "source": "sns.histplot(data=train, x='GT_NO2')",
   "id": "4ec686de35d7dcac",
   "outputs": [],
   "execution_count": null
  },
  {
   "metadata": {},
   "cell_type": "markdown",
   "source": "### Prepare data",
   "id": "8451323debc58a07"
  },
  {
   "metadata": {},
   "cell_type": "code",
   "source": [
    "test_ids = test['ID_Zindi']\n",
    "train.drop(columns=['ID', 'ID_Zindi', 'Date'], axis=1, inplace=True)\n",
    "test.drop(columns=['ID', 'ID_Zindi', 'Date'], axis=1, inplace=True)"
   ],
   "id": "3f145e854d730088",
   "outputs": [],
   "execution_count": null
  },
  {
   "metadata": {},
   "cell_type": "markdown",
   "source": "### Get elevation from LAT, LON",
   "id": "24fd095721b13eec"
  },
  {
   "metadata": {},
   "cell_type": "code",
   "source": [
    "from json import JSONDecodeError\n",
    "import requests\n",
    "\n",
    "def get_elevation(lat, lon):\n",
    "    query = f'https://api.open-elevation.com/api/v1/lookup?locations={lat},{lon}'\n",
    "    r = requests.get(query).json()\n",
    "    return r['results'][0]['elevation']\n",
    "\n",
    "\n",
    "try:\n",
    "    unique_train_locations['Elevation'] = unique_train_locations.apply(lambda r: get_elevation(r['LAT'], r['LON']), axis=1)\n",
    "    unique_test_locations['Elevation'] = unique_test_locations.apply(lambda r: get_elevation(r['LAT'], r['LON']), axis=1)\n",
    "    unique_train_locations.drop(columns=['Nans', 'GT_NO2'], inplace=True)\n",
    "except JSONDecodeError as e:\n",
    "    unique_train_locations = pd.read_csv(os.path.join('prepared', 'train.csv'))[['LAT', 'LON', 'Elevation']].drop_duplicates()\n",
    "    unique_test_locations = pd.read_csv(os.path.join('prepared', 'test.csv'))[['LAT', 'LON', 'Elevation']].drop_duplicates()\n",
    "    \n",
    "\n",
    "train = train.merge(unique_train_locations, on=['LAT', 'LON'], how='left')\n",
    "test = test.merge(unique_test_locations, on=['LAT', 'LON'], how='left')"
   ],
   "id": "188e53a516999f42",
   "outputs": [],
   "execution_count": null
  },
  {
   "metadata": {},
   "cell_type": "code",
   "source": "train.head()",
   "id": "152124219fda1ee0",
   "outputs": [],
   "execution_count": null
  },
  {
   "metadata": {},
   "cell_type": "markdown",
   "source": "### Check ranges of values",
   "id": "a1cce9ed29f38e95"
  },
  {
   "metadata": {},
   "cell_type": "code",
   "source": "train.describe()",
   "id": "a9dee96740331a76",
   "outputs": [],
   "execution_count": null
  },
  {
   "metadata": {},
   "cell_type": "markdown",
   "source": "### Make the same ranges for test and train",
   "id": "d41f50aae08cb077"
  },
  {
   "metadata": {},
   "cell_type": "code",
   "source": [
    "def cut_ranges():\n",
    "    for column in test.select_dtypes(exclude=['category']).columns[2:-1]:\n",
    "        test_min = test[column].min()\n",
    "        test_max = test[column].max()\n",
    "        to_drop = train[(train[column] < test_min) | (train[column] > test_max)].index\n",
    "        train.drop(index=to_drop, inplace=True)\n",
    "\n",
    "\n",
    "cut_ranges()\n",
    "\n",
    "train.describe()"
   ],
   "id": "f53a3710c41e9205",
   "outputs": [],
   "execution_count": null
  },
  {
   "metadata": {},
   "cell_type": "markdown",
   "source": "### Correlation Matrix for train",
   "id": "3bff7a7647dfa277"
  },
  {
   "metadata": {},
   "cell_type": "code",
   "source": [
    "def compare_correlation(df):\n",
    "    fig, ax = plt.subplots(nrows=1, ncols=2, figsize=(28, 13))\n",
    "    \n",
    "    sns.heatmap(df.corr().round(2), annot=True, cmap='Greys', ax=ax[0])\n",
    "    sns.heatmap(df.corr(method='spearman').round(2), annot=True, cmap='Greys', ax=ax[1])\n",
    "    plt.show()\n",
    "\n",
    "compare_correlation(train)"
   ],
   "id": "665126196152aadd",
   "outputs": [],
   "execution_count": null
  },
  {
   "metadata": {},
   "cell_type": "markdown",
   "source": "### Correlation Matrix for test",
   "id": "4624fc931f553310"
  },
  {
   "metadata": {},
   "cell_type": "code",
   "source": "compare_correlation(test)",
   "id": "ede48e8943c9592a",
   "outputs": [],
   "execution_count": null
  },
  {
   "metadata": {},
   "cell_type": "markdown",
   "source": "### Scatter plots of columns from original dataset",
   "id": "e2c5b9c58cead8f4"
  },
  {
   "metadata": {},
   "cell_type": "code",
   "source": [
    "def plot_scatter():\n",
    "    columns = test.select_dtypes(exclude=['category']).columns[2:]\n",
    "    fig, ax = plt.subplots(nrows=(len(columns) + 2) // 3, ncols=3, figsize=(25, 15))\n",
    "    for i, col in enumerate(columns):\n",
    "        x_cord, y_cord = divmod(i, 3)\n",
    "        sns.scatterplot(data=train, x=col, y='GT_NO2', ax=ax[x_cord, y_cord], s=2)\n",
    "        ax[x_cord, y_cord].set_title(f'{col} and GT_NO2')\n",
    "        ax[x_cord, y_cord].set_xlabel(col)\n",
    "        ax[x_cord, y_cord].set_ylabel('GT_NO2')\n",
    "\n",
    "\n",
    "plot_scatter()"
   ],
   "id": "16391601f6f34c42",
   "outputs": [],
   "execution_count": null
  },
  {
   "metadata": {},
   "cell_type": "markdown",
   "source": "### Identify outliers in target column using zscore",
   "id": "d9ac3b524cca81a6"
  },
  {
   "metadata": {},
   "cell_type": "code",
   "source": [
    "from scipy.stats import zscore\n",
    "\n",
    "\n",
    "def show_outliers(data, up, down, num):\n",
    "    outliers = zscore(data)\n",
    "    \n",
    "    quantiles = pd.DataFrame(list(zip(np.linspace(up, down, num), [np.quantile(outliers, el) for el in np.linspace(up, down, num)], [np.quantile(data, el) for el in np.linspace(up, down, num)])), columns=['quantile', 'zscore', data.name])\n",
    "    \n",
    "    return quantiles\n",
    "\n",
    "show_outliers(train['GT_NO2'], 0.98, 1, 21)"
   ],
   "id": "dac3f99800af8969",
   "outputs": [],
   "execution_count": null
  },
  {
   "metadata": {},
   "cell_type": "code",
   "source": "show_outliers(train['GT_NO2'], 0.0, 0.1, 21)",
   "id": "d9f3b77cd055daf3",
   "outputs": [],
   "execution_count": null
  },
  {
   "metadata": {},
   "cell_type": "markdown",
   "source": "### Deleting outliers in top 1.4% percentile",
   "id": "eddd3393010c2b6c"
  },
  {
   "metadata": {},
   "cell_type": "code",
   "source": [
    "def detect_outliers(data, down, up):\n",
    "    outliers = zscore(data)\n",
    "    q1, q2 = np.quantile(outliers, down), np.quantile(outliers, up)\n",
    "    return [i for i, el in enumerate(outliers) if el > q2]\n",
    "\n",
    "def delete_outliers(indexes, df):\n",
    "    df.reset_index(drop=True, inplace=True)\n",
    "    df.drop(indexes, inplace=True)\n",
    "    df.reset_index(drop=True, inplace=True)\n",
    "    return df\n",
    "\n",
    "indexes_to_drop = detect_outliers(train['GT_NO2'], 0.0, 0.986)\n",
    "train = delete_outliers(indexes_to_drop, train)\n",
    "\n",
    "train.info()"
   ],
   "id": "f420ca4ae59ebd1d",
   "outputs": [],
   "execution_count": null
  },
  {
   "metadata": {},
   "cell_type": "markdown",
   "source": "### Save data",
   "id": "5825b6de4df54e3a"
  },
  {
   "metadata": {},
   "cell_type": "code",
   "source": [
    "train.to_csv(os.path.join('prepared', 'train.csv'), index=False)\n",
    "test.to_csv(os.path.join('prepared', 'test.csv'), index=False)"
   ],
   "id": "108485a307ee11c9",
   "outputs": [],
   "execution_count": null
  }
 ],
 "metadata": {
  "kernelspec": {
   "display_name": "Python 3",
   "language": "python",
   "name": "python3"
  },
  "language_info": {
   "codemirror_mode": {
    "name": "ipython",
    "version": 2
   },
   "file_extension": ".py",
   "mimetype": "text/x-python",
   "name": "python",
   "nbconvert_exporter": "python",
   "pygments_lexer": "ipython2",
   "version": "2.7.6"
  }
 },
 "nbformat": 4,
 "nbformat_minor": 5
}
