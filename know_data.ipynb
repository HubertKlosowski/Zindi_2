{
 "cells": [
  {
   "metadata": {},
   "cell_type": "markdown",
   "source": [
    "## GeoAI Ground-level NO2 Estimation Challenge by ITU\n",
    "\n",
    "### Author: Hubert Kłosowski 242424"
   ],
   "id": "f0aabc38d6194d97"
  },
  {
   "cell_type": "code",
   "id": "initial_id",
   "metadata": {
    "collapsed": true
   },
   "source": [
    "import pandas as pd\n",
    "import numpy as np\n",
    "import matplotlib.pyplot as plt\n",
    "import seaborn as sns\n",
    "import os"
   ],
   "outputs": [],
   "execution_count": null
  },
  {
   "metadata": {},
   "cell_type": "markdown",
   "source": "### Load data",
   "id": "23cf930fc71c9e50"
  },
  {
   "metadata": {},
   "cell_type": "code",
   "source": [
    "train = pd.read_csv(os.path.join('data', 'train.csv'))\n",
    "test = pd.read_csv(os.path.join('data', 'test.csv'))\n",
    "\n",
    "train.info()"
   ],
   "id": "e701b0e967770c71",
   "outputs": [],
   "execution_count": null
  },
  {
   "metadata": {},
   "cell_type": "code",
   "source": "test.info()",
   "id": "4292f017cfe37df1",
   "outputs": [],
   "execution_count": null
  },
  {
   "metadata": {},
   "cell_type": "markdown",
   "source": "### Check why NaNs in target column?",
   "id": "f186774065c5434d"
  },
  {
   "metadata": {},
   "cell_type": "code",
   "source": [
    "train['Date'] = pd.to_datetime(train['Date'])\n",
    "test['Date'] = pd.to_datetime(test['Date'])\n",
    "\n",
    "target_nans = train.loc[train['GT_NO2'].isna(), :]\n",
    "target_nans.describe()"
   ],
   "id": "8c9e4ae13dd439dd",
   "outputs": [],
   "execution_count": null
  },
  {
   "metadata": {},
   "cell_type": "markdown",
   "source": "### Extract date info",
   "id": "6a7791a54591251e"
  },
  {
   "metadata": {},
   "cell_type": "code",
   "source": [
    "def extract_date_info(dataframe):\n",
    "    dataframe['DayOfWeek'] = dataframe['Date'].dt.dayofweek\n",
    "    dataframe['Month'] = dataframe['Date'].dt.month\n",
    "    dataframe['Year'] = dataframe['Date'].dt.year\n",
    "    dataframe['Week'] = dataframe['Date'].dt.isocalendar().week\n",
    "    dataframe.drop(['Date'], axis=1, inplace=True)\n",
    "    return dataframe\n",
    "\n",
    "train = extract_date_info(train)\n",
    "test = extract_date_info(test)"
   ],
   "id": "c24dddc52a93b86b",
   "outputs": [],
   "execution_count": null
  },
  {
   "metadata": {},
   "cell_type": "markdown",
   "source": "### Plot distribution of target values",
   "id": "d647a04cd9039b34"
  },
  {
   "metadata": {},
   "cell_type": "code",
   "source": "train['GT_NO2'].plot(kind='hist')",
   "id": "aa8320959672c258",
   "outputs": [],
   "execution_count": null
  },
  {
   "metadata": {},
   "cell_type": "markdown",
   "source": "### Target values in day of week",
   "id": "532f70eab5674371"
  },
  {
   "metadata": {},
   "cell_type": "code",
   "source": "sns.barplot(data=train, x='DayOfWeek', y='GT_NO2')",
   "id": "106f352bf09d3699",
   "outputs": [],
   "execution_count": null
  },
  {
   "metadata": {},
   "cell_type": "markdown",
   "source": "### Target values in months",
   "id": "a75dfe1206eb50d0"
  },
  {
   "metadata": {},
   "cell_type": "code",
   "source": "sns.barplot(data=train, x='Month', y='GT_NO2')",
   "id": "f379bd2454f6cd1b",
   "outputs": [],
   "execution_count": null
  },
  {
   "metadata": {},
   "cell_type": "markdown",
   "source": "### Target values in years",
   "id": "f749f358ee995132"
  },
  {
   "metadata": {},
   "cell_type": "code",
   "source": "sns.barplot(data=train, x='Year', y='GT_NO2')",
   "id": "ff06cd2eea276a80",
   "outputs": [],
   "execution_count": null
  },
  {
   "metadata": {},
   "cell_type": "markdown",
   "source": "### Target values in weeks",
   "id": "3a861a42bc18e54b"
  },
  {
   "metadata": {},
   "cell_type": "code",
   "source": "sns.barplot(data=train, x='Week', y='GT_NO2')",
   "id": "9a9c121158db58f5",
   "outputs": [],
   "execution_count": null
  },
  {
   "metadata": {},
   "cell_type": "markdown",
   "source": "### Prepare data",
   "id": "8451323debc58a07"
  },
  {
   "metadata": {},
   "cell_type": "code",
   "source": [
    "test_ids = test['ID_Zindi']\n",
    "train.dropna(subset=['GT_NO2'], inplace=True)\n",
    "train.drop(columns=['ID', 'ID_Zindi'], axis=1, inplace=True)\n",
    "test.drop(columns=['ID', 'ID_Zindi'], axis=1, inplace=True)"
   ],
   "id": "3f145e854d730088",
   "outputs": [],
   "execution_count": null
  },
  {
   "metadata": {},
   "cell_type": "markdown",
   "source": "### Correlation Matrix",
   "id": "3bff7a7647dfa277"
  },
  {
   "metadata": {},
   "cell_type": "code",
   "source": [
    "plt.figure(figsize=(12, 10))\n",
    "sns.heatmap(train.corr(), annot=True, cmap='Greys')"
   ],
   "id": "665126196152aadd",
   "outputs": [],
   "execution_count": null
  },
  {
   "metadata": {},
   "cell_type": "markdown",
   "source": "### Scatter plots of columns from original dataset",
   "id": "e2c5b9c58cead8f4"
  },
  {
   "metadata": {},
   "cell_type": "code",
   "source": [
    "def plot_scatter():\n",
    "    columns = [col for col in train.columns][:10]\n",
    "    fig, ax = plt.subplots(nrows=len(columns) // 5, ncols=5, figsize=(25, 15))\n",
    "    for i, col in enumerate(columns):\n",
    "        x, y = divmod(i, 5)\n",
    "        sns.scatterplot(data=train, x=col, y='GT_NO2', ax=ax[x, y], s=2)\n",
    "        ax[x, y].set_title(f'Correlation between {col} and GT_NO2')\n",
    "        ax[x, y].set_xlabel(col)\n",
    "        ax[x, y].set_ylabel('GT_NO2')\n",
    "plot_scatter()"
   ],
   "id": "16391601f6f34c42",
   "outputs": [],
   "execution_count": null
  },
  {
   "metadata": {},
   "cell_type": "code",
   "source": [
    "from sklearn.model_selection import train_test_split\n",
    "\n",
    "\n",
    "X, y = train.drop(columns=['GT_NO2'], axis=1), train['GT_NO2']\n",
    "\n",
    "X_train, X_test, y_train, y_test = train_test_split(X, y, test_size=0.3, random_state=4)\n",
    "X_train = pd.DataFrame(X_train, columns=X.columns)\n",
    "X_test = pd.DataFrame(X_test, columns=X.columns)"
   ],
   "id": "8c4b1d27755fe75",
   "outputs": [],
   "execution_count": null
  },
  {
   "metadata": {},
   "cell_type": "code",
   "source": [
    "import lightgbm as lgb\n",
    "import optuna\n",
    "from sklearn.metrics import root_mean_squared_error\n",
    "from sklearn.model_selection import KFold, cross_val_score, GroupKFold\n",
    "\n",
    "\n",
    "def define_lightgbm_model(trial):\n",
    "    params = {\n",
    "        'objective': 'root_mean_squared_error',\n",
    "        'boosting_type': 'gbdt',\n",
    "        'max_bin': trial.suggest_int('max_bin', 10, 200),\n",
    "        'num_leaves': trial.suggest_int('num_leaves', 50, 300),\n",
    "        'max_depth': trial.suggest_int('max_depth', 5, 12),\n",
    "        'learning_rate': trial.suggest_float('learning_rate', 1e-3, 9e-2, log=True),\n",
    "        'n_estimators': trial.suggest_int('n_estimators', 200, 700),\n",
    "        'tree_learner': 'voting',\n",
    "        'bagging_fraction': trial.suggest_float('bagging_fraction', 0.6, 1.0, log=True),\n",
    "        'colsample_bytree': trial.suggest_float('colsample_bytree', 0.4, 0.8, log=True),\n",
    "        'min_data_in_leaf': trial.suggest_int('min_data_in_leaf', 50, 250),\n",
    "        'reg_lambda': trial.suggest_float('reg_lambda', 1e-2, 1, log=True),\n",
    "        'bagging_freq': trial.suggest_int('bagging_freq', 1, 5),\n",
    "        'device': 'cpu',\n",
    "        'n_jobs': -1,\n",
    "        'random_state': 4,\n",
    "        'verbosity': -1,\n",
    "    }\n",
    "    return lgb.LGBMRegressor(**params)\n",
    "\n",
    "def objective_lightgbm(trial):\n",
    "    model = define_lightgbm_model(trial)\n",
    "    gkf = GroupKFold(n_splits=X['DayOfWeek'].nunique())\n",
    "    scores = cross_val_score(model, X, y, groups=X['DayOfWeek'], cv=gkf, n_jobs=-1, scoring='neg_root_mean_squared_error')\n",
    "    return scores.mean() * (-1)"
   ],
   "id": "bea89e57172f7da1",
   "outputs": [],
   "execution_count": null
  },
  {
   "metadata": {},
   "cell_type": "code",
   "source": [
    "study_lightgbm = optuna.create_study(direction='minimize', study_name='AirQualityWithLightGBM', sampler=optuna.samplers.TPESampler())\n",
    "study_lightgbm.optimize(objective_lightgbm, n_trials=200)"
   ],
   "id": "883d48c32ca64783",
   "outputs": [],
   "execution_count": null
  },
  {
   "metadata": {},
   "cell_type": "code",
   "source": [
    "lgb_model = define_lightgbm_model(study_lightgbm.best_trial)\n",
    "lgb_model.fit(X, y)\n",
    "lightgbm_params = ['max_bin', 'num_leaves', 'max_depth', 'learning_rate', 'n_estimators', 'bagging_fraction', 'colsample_bytree', 'min_data_in_leaf']\n",
    "lgb_pred = lgb_model.predict(X_test)\n",
    "root_mean_squared_error(y_test, lgb_pred)"
   ],
   "id": "f7886c5d8c7629f4",
   "outputs": [],
   "execution_count": null
  },
  {
   "metadata": {},
   "cell_type": "code",
   "source": [
    "from sklearn.model_selection import LearningCurveDisplay\n",
    "\n",
    "\n",
    "LearningCurveDisplay.from_estimator(lgb_model, X, y, cv=10, n_jobs=-1, random_state=4, scoring='neg_root_mean_squared_error')"
   ],
   "id": "213c43252d3eaa43",
   "outputs": [],
   "execution_count": null
  },
  {
   "metadata": {},
   "cell_type": "code",
   "source": [
    "def save_to_csv(y_pred, save_as):\n",
    "    if 'result' not in os.listdir(os.getcwd()):\n",
    "        os.mkdir('result')\n",
    "    final_df = pd.concat([test_ids, pd.DataFrame.from_dict({'GT_NO2': y_pred})], axis=1)\n",
    "    final_df.to_csv(os.path.join('result', save_as), index=False)\n",
    "    \n",
    "save_to_csv(lgb_model.predict(test), 'lightgbm')"
   ],
   "id": "c16ffef23cd7ed56",
   "outputs": [],
   "execution_count": null
  }
 ],
 "metadata": {
  "kernelspec": {
   "display_name": "Python 3",
   "language": "python",
   "name": "python3"
  },
  "language_info": {
   "codemirror_mode": {
    "name": "ipython",
    "version": 2
   },
   "file_extension": ".py",
   "mimetype": "text/x-python",
   "name": "python",
   "nbconvert_exporter": "python",
   "pygments_lexer": "ipython2",
   "version": "2.7.6"
  }
 },
 "nbformat": 4,
 "nbformat_minor": 5
}
