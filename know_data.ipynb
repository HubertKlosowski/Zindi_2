{
 "cells": [
  {
   "metadata": {},
   "cell_type": "markdown",
   "source": [
    "## GeoAI Ground-level NO2 Estimation Challenge by ITU\n",
    "\n",
    "### Author: Hubert Kłosowski 242424"
   ],
   "id": "f0aabc38d6194d97"
  },
  {
   "cell_type": "code",
   "id": "initial_id",
   "metadata": {
    "collapsed": true
   },
   "source": [
    "import pandas as pd\n",
    "import numpy as np\n",
    "import matplotlib.pyplot as plt\n",
    "import seaborn as sns\n",
    "import os"
   ],
   "outputs": [],
   "execution_count": null
  },
  {
   "metadata": {},
   "cell_type": "markdown",
   "source": "### Load data",
   "id": "23cf930fc71c9e50"
  },
  {
   "metadata": {},
   "cell_type": "code",
   "source": [
    "train = pd.read_csv(os.path.join('data', 'train.csv'))\n",
    "test = pd.read_csv(os.path.join('data', 'test.csv'))"
   ],
   "id": "1f81eac637fdb080",
   "outputs": [],
   "execution_count": null
  },
  {
   "metadata": {},
   "cell_type": "code",
   "source": "train.info()",
   "id": "e701b0e967770c71",
   "outputs": [],
   "execution_count": null
  },
  {
   "metadata": {},
   "cell_type": "code",
   "source": "test.info()",
   "id": "4292f017cfe37df1",
   "outputs": [],
   "execution_count": null
  },
  {
   "metadata": {},
   "cell_type": "markdown",
   "source": "### Extract date info",
   "id": "6a7791a54591251e"
  },
  {
   "metadata": {},
   "cell_type": "code",
   "source": [
    "def extract_date_info(dataframe):\n",
    "    dataframe['Date'] = pd.to_datetime(dataframe['Date'], format='mixed')\n",
    "    dataframe['DayOfWeek'] = dataframe['Date'].dt.dayofweek.astype('category')\n",
    "    dataframe['Month'] = dataframe['Date'].dt.month.astype('category')\n",
    "    dataframe['Year'] = dataframe['Date'].dt.year.astype('category')\n",
    "    dataframe['Week'] = dataframe['Date'].dt.isocalendar().week.astype('category')\n",
    "    dataframe['Season'] = get_season(dataframe['Date']).astype('category')\n",
    "    dataframe.drop(['Date'], axis=1, inplace=True)\n",
    "    return dataframe\n",
    "\n",
    "def get_season(date_series):\n",
    "    spring = ((date_series.dt.month == 3) & (date_series.dt.day >= 20)) | ((date_series.dt.month > 3) & (date_series.dt.month < 6)) | ((date_series.dt.month == 6) & (date_series.dt.day <= 20))\n",
    "    summer = ((date_series.dt.month == 6) & (date_series.dt.day >= 21)) | ((date_series.dt.month > 6) & (date_series.dt.month < 9)) | ((date_series.dt.month == 9) & (date_series.dt.day <= 22))\n",
    "    autumn = ((date_series.dt.month == 9) & (date_series.dt.day >= 23)) | ((date_series.dt.month > 9) & (date_series.dt.month < 12)) | ((date_series.dt.month == 12) & (date_series.dt.day <= 20))\n",
    "    \n",
    "    season_series = pd.Series(0, index=date_series.index)  # Domyślnie 0 dla wiosny\n",
    "    season_series.loc[summer] = 1  # Lato\n",
    "    season_series.loc[autumn] = 2  # Jesień\n",
    "    season_series.loc[~(spring | summer | autumn)] = 3  # Zima\n",
    "    \n",
    "    return season_series\n",
    "\n",
    "train = extract_date_info(train)\n",
    "test = extract_date_info(test)"
   ],
   "id": "c24dddc52a93b86b",
   "outputs": [],
   "execution_count": null
  },
  {
   "metadata": {},
   "cell_type": "markdown",
   "source": "### Target values in day of week",
   "id": "532f70eab5674371"
  },
  {
   "metadata": {},
   "cell_type": "code",
   "source": [
    "import matplotlib.patches as mpatches\n",
    "\n",
    "\n",
    "def compare_plots(column_name):\n",
    "    fig, ax = plt.subplots(nrows=1, ncols=2, figsize=(25, 15))\n",
    "    \n",
    "    sns.barplot(data=train, x=column_name, y='GT_NO2', ax=ax[0], color='blue')\n",
    "    sns.barplot(data=train, x=column_name, y='NO2_trop', ax=ax[1], color='blue')\n",
    "    sns.barplot(data=test, x=column_name, y='NO2_trop', ax=ax[1], color='orange')\n",
    "    \n",
    "    train_patch = mpatches.Patch(color='blue', label='Train')\n",
    "    test_patch = mpatches.Patch(color='orange', label='Test')\n",
    "    \n",
    "    ax[1].legend(handles=[train_patch, test_patch], title='NO2_trop', loc='upper right')\n",
    "    plt.show()\n",
    "    \n",
    "\n",
    "compare_plots('DayOfWeek')"
   ],
   "id": "86d2415fde735c00",
   "outputs": [],
   "execution_count": null
  },
  {
   "metadata": {},
   "cell_type": "markdown",
   "source": "### Target values in months",
   "id": "a75dfe1206eb50d0"
  },
  {
   "metadata": {},
   "cell_type": "code",
   "source": "compare_plots('Month')",
   "id": "f379bd2454f6cd1b",
   "outputs": [],
   "execution_count": null
  },
  {
   "metadata": {},
   "cell_type": "markdown",
   "source": "### Target values in years",
   "id": "f749f358ee995132"
  },
  {
   "metadata": {},
   "cell_type": "code",
   "source": "compare_plots('Year')",
   "id": "ff06cd2eea276a80",
   "outputs": [],
   "execution_count": null
  },
  {
   "metadata": {},
   "cell_type": "markdown",
   "source": "### Target values in weeks",
   "id": "3a861a42bc18e54b"
  },
  {
   "metadata": {},
   "cell_type": "code",
   "source": "compare_plots('Week')",
   "id": "9a9c121158db58f5",
   "outputs": [],
   "execution_count": null
  },
  {
   "metadata": {},
   "cell_type": "markdown",
   "source": "### Target values in seasons",
   "id": "e627a78205c65a60"
  },
  {
   "metadata": {},
   "cell_type": "code",
   "source": "compare_plots('Season')",
   "id": "6680c53780a5267f",
   "outputs": [],
   "execution_count": null
  },
  {
   "metadata": {},
   "cell_type": "markdown",
   "source": "### Map of id's in train dataset",
   "id": "d5d3e93aa0cc9637"
  },
  {
   "metadata": {},
   "cell_type": "code",
   "source": [
    "import folium\n",
    "\n",
    "\n",
    "my_map = folium.Map(\n",
    "    location=(train['LAT'].mean(), train['LON'].mean()),\n",
    "    zoom_start=7,\n",
    ")"
   ],
   "id": "59fe2b69ec2d8caa",
   "outputs": [],
   "execution_count": null
  },
  {
   "metadata": {},
   "cell_type": "markdown",
   "source": "### Train Locations",
   "id": "dc83e8d29cdf84d9"
  },
  {
   "metadata": {},
   "cell_type": "code",
   "source": [
    "unique_train_locations = train.groupby(['LAT', 'LON'])['GT_NO2'].mean().reset_index()\n",
    "nans = train.loc[train['GT_NO2'].isna() == True, ['LAT', 'LON']].value_counts().to_frame().reset_index()\n",
    "unique_train_locations = pd.merge(unique_train_locations, nans, on=['LAT', 'LON'], how='outer')\n",
    "unique_train_locations.rename({'count': 'Nans'}, axis=1, inplace=True)\n",
    "unique_train_locations['Nans'] = unique_train_locations['Nans'].apply(lambda x: round(x / 10.96, 2))\n",
    "\n",
    "unique_train_locations"
   ],
   "id": "66ce48de9a179ad",
   "outputs": [],
   "execution_count": null
  },
  {
   "metadata": {},
   "cell_type": "code",
   "source": [
    "layer_train_map = folium.FeatureGroup(name='Train Locations', show=False)\n",
    "for index, row in unique_train_locations.iterrows():\n",
    "    popup_html = f\"\"\"\n",
    "    <div style=\"font-family: Arial; font-size: 14px;\">\n",
    "        <strong>Mean GT_NO2 level:</strong> {row[\"GT_NO2\"]:.2f}<br>\n",
    "        <strong>Latitude:</strong> {row[\"LAT\"]}<br>\n",
    "        <strong>Longitude:</strong> {row[\"LON\"]}<br>\n",
    "        <strong>Percent of nans:</strong> {row['Nans']} %\n",
    "    </div>\n",
    "    \"\"\"\n",
    "    popup = folium.Popup(popup_html, max_width=300)\n",
    "    if row['Nans'] > 10:\n",
    "        folium.Marker(\n",
    "            location=[row['LAT'], row['LON']],\n",
    "            icon=folium.Icon(color='green', icon_color='black', icon='home'),\n",
    "            popup=popup,\n",
    "        ).add_to(layer_train_map)\n",
    "    else:\n",
    "        folium.Marker(\n",
    "            location=[row['LAT'], row['LON']],\n",
    "            icon=folium.Icon(color='green', icon='home'),\n",
    "            popup=popup,\n",
    "        ).add_to(layer_train_map)\n",
    "    \n",
    "layer_train_map.add_to(my_map)"
   ],
   "id": "7762b1fe93999744",
   "outputs": [],
   "execution_count": null
  },
  {
   "metadata": {},
   "cell_type": "markdown",
   "source": "### Test Locations",
   "id": "e5e17582e6ec4ee0"
  },
  {
   "metadata": {},
   "cell_type": "code",
   "source": [
    "unique_test_locations = test[['LAT', 'LON']].drop_duplicates()\n",
    "\n",
    "layer_test_map = folium.FeatureGroup(name='Test Locations', show=False)\n",
    "for index, row in unique_test_locations.iterrows():\n",
    "    popup_html = f\"\"\"\n",
    "    <div style=\"font-family: Arial; font-size: 14px;\">\n",
    "        <strong>Latitude:</strong> {row[\"LAT\"]}<br>\n",
    "        <strong>Longitude:</strong> {row[\"LON\"]}\n",
    "    </div>\n",
    "    \"\"\"\n",
    "    popup = folium.Popup(popup_html, max_width=300)\n",
    "    folium.Marker(\n",
    "        location=[row['LAT'], row['LON']],\n",
    "        icon=folium.Icon(color='red', icon='home'),\n",
    "        popup=popup,\n",
    "    ).add_to(layer_test_map)\n",
    "    \n",
    "layer_test_map.add_to(my_map)"
   ],
   "id": "dda023fa14e0ab46",
   "outputs": [],
   "execution_count": null
  },
  {
   "metadata": {},
   "cell_type": "code",
   "source": [
    "folium.LayerControl().add_to(my_map)\n",
    "my_map.save('my_map.html')"
   ],
   "id": "3ee799f292d36a50",
   "outputs": [],
   "execution_count": null
  },
  {
   "metadata": {},
   "cell_type": "markdown",
   "source": "### Prepare data",
   "id": "8451323debc58a07"
  },
  {
   "metadata": {},
   "cell_type": "code",
   "source": [
    "test_ids = test['ID_Zindi']\n",
    "train.drop(columns=['ID', 'ID_Zindi'], axis=1, inplace=True)\n",
    "test.drop(columns=['ID', 'ID_Zindi'], axis=1, inplace=True)"
   ],
   "id": "3f145e854d730088",
   "outputs": [],
   "execution_count": null
  },
  {
   "metadata": {},
   "cell_type": "markdown",
   "source": "### Get elevation from LAT, LON",
   "id": "24fd095721b13eec"
  },
  {
   "metadata": {},
   "cell_type": "code",
   "source": [
    "import requests\n",
    "\n",
    "def get_elevation(lat, lon):\n",
    "    query = f'https://api.open-elevation.com/api/v1/lookup?locations={lat},{lon}'\n",
    "    r = requests.get(query).json()\n",
    "    return r['results'][0]['elevation']\n",
    "\n",
    "\n",
    "unique_train_locations['Elevation'] = unique_train_locations.apply(lambda r: get_elevation(r['LAT'], r['LON']), axis=1)\n",
    "unique_test_locations['Elevation'] = unique_test_locations.apply(lambda r: get_elevation(r['LAT'], r['LON']), axis=1)\n",
    "unique_train_locations.drop(columns=['Nans', 'GT_NO2'], inplace=True)\n",
    "\n",
    "train = train.merge(unique_train_locations, on=['LAT', 'LON'], how='left')\n",
    "test = test.merge(unique_test_locations, on=['LAT', 'LON'], how='left')"
   ],
   "id": "188e53a516999f42",
   "outputs": [],
   "execution_count": null
  },
  {
   "metadata": {},
   "cell_type": "markdown",
   "source": "### Check ranges of values",
   "id": "a1cce9ed29f38e95"
  },
  {
   "metadata": {},
   "cell_type": "code",
   "source": "train.describe()",
   "id": "a9dee96740331a76",
   "outputs": [],
   "execution_count": null
  },
  {
   "metadata": {},
   "cell_type": "markdown",
   "source": "### Make the same ranges for test and train",
   "id": "d41f50aae08cb077"
  },
  {
   "metadata": {},
   "cell_type": "code",
   "source": [
    "def cut_ranges():\n",
    "    for column in test.select_dtypes(exclude=['category']).columns[2:]:\n",
    "        test_min = test[column].min()\n",
    "        test_max = test[column].max()\n",
    "        to_drop = train[(train[column] < test_min) | (train[column] > test_max)].index\n",
    "        train.drop(index=to_drop, inplace=True)\n",
    "\n",
    "\n",
    "cut_ranges()\n",
    "\n",
    "train.describe()"
   ],
   "id": "f53a3710c41e9205",
   "outputs": [],
   "execution_count": null
  },
  {
   "metadata": {},
   "cell_type": "markdown",
   "source": "### Correlation Matrix for train",
   "id": "3bff7a7647dfa277"
  },
  {
   "metadata": {},
   "cell_type": "code",
   "source": [
    "def compare_correlation(df):\n",
    "    fig, ax = plt.subplots(nrows=1, ncols=2, figsize=(28, 13))\n",
    "    \n",
    "    sns.heatmap(df.corr().round(2), annot=True, cmap='Greys', ax=ax[0])\n",
    "    sns.heatmap(df.corr(method='spearman').round(2), annot=True, cmap='Greys', ax=ax[1])\n",
    "    plt.show()\n",
    "\n",
    "compare_correlation(train)"
   ],
   "id": "665126196152aadd",
   "outputs": [],
   "execution_count": null
  },
  {
   "metadata": {},
   "cell_type": "markdown",
   "source": "### Correlation Matrix for test",
   "id": "4624fc931f553310"
  },
  {
   "metadata": {},
   "cell_type": "code",
   "source": "compare_correlation(test)",
   "id": "ede48e8943c9592a",
   "outputs": [],
   "execution_count": null
  },
  {
   "metadata": {},
   "cell_type": "markdown",
   "source": "### Scatter plots of columns from original dataset",
   "id": "e2c5b9c58cead8f4"
  },
  {
   "metadata": {},
   "cell_type": "code",
   "source": [
    "def plot_scatter():\n",
    "    columns = test.select_dtypes(exclude=['category']).columns[2:]\n",
    "    fig, ax = plt.subplots(nrows=(len(columns) + 1) // 3, ncols=3, figsize=(25, 15))\n",
    "    for i, col in enumerate(columns):\n",
    "        x_cord, y_cord = divmod(i, 3)\n",
    "        sns.scatterplot(data=train, x=col, y='GT_NO2', ax=ax[x_cord, y_cord], s=2)\n",
    "        ax[x_cord, y_cord].set_title(f'{col} and GT_NO2')\n",
    "        ax[x_cord, y_cord].set_xlabel(col)\n",
    "        ax[x_cord, y_cord].set_ylabel('GT_NO2')\n",
    "\n",
    "\n",
    "plot_scatter()"
   ],
   "id": "16391601f6f34c42",
   "outputs": [],
   "execution_count": null
  },
  {
   "metadata": {},
   "cell_type": "markdown",
   "source": [
    "### Do sth with NaNs in GT_NO2\n",
    "\n",
    "train lightgbm to fill NaNs in train df\n",
    "filled rows use for final training, or drop"
   ],
   "id": "a9cc66a13f6ec310"
  },
  {
   "metadata": {},
   "cell_type": "code",
   "source": [
    "# gt_no2_nans = train.loc[train['GT_NO2'].isna() == True, :]\n",
    "train.dropna(subset=['GT_NO2'], inplace=True)\n",
    "train.reset_index(drop=True, inplace=True)"
   ],
   "id": "7698129424720f4e",
   "outputs": [],
   "execution_count": null
  },
  {
   "metadata": {},
   "cell_type": "markdown",
   "source": "### Distribution of values",
   "id": "88de7e7d117ae6ce"
  },
  {
   "metadata": {},
   "cell_type": "code",
   "source": "sns.histplot(data=train['GT_NO2'])",
   "id": "6dd7b9b6219118db",
   "outputs": [],
   "execution_count": null
  },
  {
   "metadata": {},
   "cell_type": "markdown",
   "source": "### Identify outliers in target column using zscore",
   "id": "d9ac3b524cca81a6"
  },
  {
   "metadata": {},
   "cell_type": "code",
   "source": [
    "from scipy.stats import zscore\n",
    "\n",
    "\n",
    "def show_outliers(data, up, down, num):\n",
    "    outliers = zscore(data)\n",
    "    \n",
    "    quantiles = pd.DataFrame(list(zip(np.linspace(up, down, num), [np.quantile(outliers, el) for el in np.linspace(up, down, num)], [np.quantile(data, el) for el in np.linspace(up, down, num)])), columns=['quantile', 'zscore', data.name])\n",
    "    \n",
    "    return quantiles\n",
    "\n",
    "show_outliers(train['GT_NO2'], 0.98, 1, 21)"
   ],
   "id": "dac3f99800af8969",
   "outputs": [],
   "execution_count": null
  },
  {
   "metadata": {},
   "cell_type": "code",
   "source": "show_outliers(train['GT_NO2'], 0.0, 0.1, 21)",
   "id": "d9f3b77cd055daf3",
   "outputs": [],
   "execution_count": null
  },
  {
   "metadata": {},
   "cell_type": "markdown",
   "source": "### Deleting outliers in top 1.4% percentile",
   "id": "eddd3393010c2b6c"
  },
  {
   "metadata": {},
   "cell_type": "code",
   "source": [
    "def detect_outliers(data, down, up):\n",
    "    outliers = zscore(data)\n",
    "    q1, q2 = np.quantile(outliers, down), np.quantile(outliers, up)\n",
    "    return [i for i, el in enumerate(outliers) if el > q2]\n",
    "\n",
    "def delete_outliers(indexes, df):\n",
    "    df.reset_index(drop=True, inplace=True)\n",
    "    df.drop(indexes, inplace=True)\n",
    "    df.reset_index(drop=True, inplace=True)\n",
    "    return df\n",
    "\n",
    "indexes_to_drop = detect_outliers(train['GT_NO2'], 0.0, 0.986)\n",
    "train = delete_outliers(indexes_to_drop, train)\n",
    "\n",
    "train.info()"
   ],
   "id": "f420ca4ae59ebd1d",
   "outputs": [],
   "execution_count": null
  },
  {
   "metadata": {},
   "cell_type": "markdown",
   "source": "### Save data",
   "id": "5825b6de4df54e3a"
  },
  {
   "metadata": {},
   "cell_type": "code",
   "source": [
    "train.to_csv('train.csv', index=False)\n",
    "test.to_csv('test.csv', index=False)"
   ],
   "id": "108485a307ee11c9",
   "outputs": [],
   "execution_count": null
  },
  {
   "metadata": {},
   "cell_type": "markdown",
   "source": "### Training process",
   "id": "d3883c3dc90ac606"
  },
  {
   "metadata": {},
   "cell_type": "code",
   "source": [
    "from sklearn.model_selection import train_test_split\n",
    "\n",
    "\n",
    "X, y = train.drop(columns=['GT_NO2'], axis=1), train['GT_NO2']\n",
    "X_train, X_test, y_train, y_test = train_test_split(X, y, test_size=0.3, random_state=4)\n",
    "\n",
    "X_train = pd.DataFrame(X_train, columns=X.columns)\n",
    "X_test = pd.DataFrame(X_test, columns=X.columns)"
   ],
   "id": "125ece808e32072d",
   "outputs": [],
   "execution_count": null
  },
  {
   "metadata": {},
   "cell_type": "code",
   "source": [
    "import lightgbm as lgb\n",
    "import optuna\n",
    "from sklearn.metrics import root_mean_squared_error\n",
    "from sklearn.model_selection import cross_val_score, GroupKFold\n",
    "from catboost import CatBoostRegressor"
   ],
   "id": "a6b6cc5620d54c43",
   "outputs": [],
   "execution_count": null
  },
  {
   "metadata": {},
   "cell_type": "markdown",
   "source": "### LightGBM",
   "id": "a30cca249ac86ed1"
  },
  {
   "metadata": {},
   "cell_type": "code",
   "source": [
    "def define_lightgbm(trial):\n",
    "    params = {\n",
    "        'max_bin': trial.suggest_int('max_bin', 70, 250),\n",
    "        'num_leaves': trial.suggest_int('num_leaves', 150, 400),\n",
    "        'max_depth': trial.suggest_int('max_depth', 6, 15),\n",
    "        'learning_rate': trial.suggest_float('learning_rate', 2e-3, 1e-1, log=True),\n",
    "        'n_estimators': trial.suggest_int('n_estimators', 400, 700),\n",
    "        'bagging_fraction': trial.suggest_float('bagging_fraction', 0.6, 1.0, log=True),\n",
    "        'colsample_bytree': trial.suggest_float('colsample_bytree', 0.4, 0.8, log=True),\n",
    "        'min_data_in_leaf': trial.suggest_int('min_data_in_leaf', 100, 400),\n",
    "        'reg_lambda': trial.suggest_float('reg_lambda', 1e-2, 1, log=True),\n",
    "        'bagging_freq': trial.suggest_int('bagging_freq', 1, 5),\n",
    "        'objective': 'root_mean_squared_error',\n",
    "        'boosting_type': 'gbdt',\n",
    "        'tree_learner': 'voting',\n",
    "        'device': 'cpu',\n",
    "        'n_jobs': -1,\n",
    "        'random_state': 4,\n",
    "        'verbosity': -1,\n",
    "    }\n",
    "    return lgb.LGBMRegressor(**params)\n",
    "\n",
    "def objective_lightgbm(trial):\n",
    "    model = define_lightgbm(trial)\n",
    "    gkf = GroupKFold(n_splits=X['Month'].nunique())\n",
    "    scores = cross_val_score(model, X, y, groups=X['Month'], cv=gkf, n_jobs=-1, scoring='neg_root_mean_squared_error')\n",
    "    return scores.mean() * (-1)"
   ],
   "id": "bea89e57172f7da1",
   "outputs": [],
   "execution_count": null
  },
  {
   "metadata": {},
   "cell_type": "markdown",
   "source": "### CatBoost",
   "id": "f2543a5bd2e0b2c3"
  },
  {
   "metadata": {},
   "cell_type": "code",
   "source": [
    "def define_catboost(trial):\n",
    "    params = {\n",
    "        'iterations': trial.suggest_int('iterations', 100, 400),\n",
    "        'learning_rate': trial.suggest_float('learning_rate', 1e-3, 1e-1, log=True),\n",
    "        'depth': trial.suggest_int('depth', 5, 12),\n",
    "        'subsample': trial.suggest_float('subsample', 0.4, 1.0, log=True),\n",
    "        'colsample_bylevel': trial.suggest_float('colsample_bylevel', 0.4, 1.0, log=True),\n",
    "        'min_data_in_leaf': trial.suggest_int('min_data_in_leaf', 1, 100),\n",
    "        'random_state': 4,\n",
    "        'cat_features': ['Season', 'DayOfWeek', 'Week', 'Year', 'Month'],\n",
    "    }\n",
    "    return CatBoostRegressor(**params, silent=True)\n",
    "\n",
    "def objective_catboost(trial):\n",
    "    model = define_catboost(trial)\n",
    "    gkf = GroupKFold(n_splits=X['Season'].nunique())\n",
    "    scores = cross_val_score(model, X, y, groups=X['Season'], cv=gkf, n_jobs=-1, scoring='neg_root_mean_squared_error')\n",
    "    return scores.mean() * (-1)"
   ],
   "id": "260faa24d7973930",
   "outputs": [],
   "execution_count": null
  },
  {
   "metadata": {},
   "cell_type": "markdown",
   "source": "### LightGBM study",
   "id": "137538be6f201369"
  },
  {
   "metadata": {},
   "cell_type": "code",
   "source": [
    "study_lightgbm = optuna.create_study(direction='minimize', study_name='GeoAIWithLightGBM', sampler=optuna.samplers.TPESampler())\n",
    "study_lightgbm.optimize(objective_lightgbm, n_trials=100)"
   ],
   "id": "883d48c32ca64783",
   "outputs": [],
   "execution_count": null
  },
  {
   "metadata": {},
   "cell_type": "markdown",
   "source": "### CatBoost study",
   "id": "2f9983d386ba0fa7"
  },
  {
   "metadata": {},
   "cell_type": "code",
   "source": [
    "study_catboost = optuna.create_study(direction='minimize', study_name='GeoAIWithCatBoost', sampler=optuna.samplers.TPESampler())\n",
    "study_catboost.optimize(objective_catboost, n_trials=100)"
   ],
   "id": "b70a98985e6f5988",
   "outputs": [],
   "execution_count": null
  },
  {
   "metadata": {},
   "cell_type": "markdown",
   "source": "### Narazie najlepszy model ever",
   "id": "f36550de5e8a160b"
  },
  {
   "metadata": {},
   "cell_type": "code",
   "source": [
    "best_params =  {'max_bin': 84, 'num_leaves': 269, 'max_depth': 11, 'learning_rate': 0.009567724370102485, 'n_estimators': 621, 'bagging_fraction': 0.6947463877737182, 'colsample_bytree': 0.40279034207476644, 'min_data_in_leaf': 111, 'reg_lambda': 0.14810770431354064, 'bagging_freq': 1, 'device': 'cpu', 'n_jobs': -1, 'random_state': 4, 'verbosity': -1, 'tree_learner': 'voting', 'objective': 'root_mean_squared_error', 'boosting_type': 'gbdt'}\n",
    "\n",
    "lgb_model = lgb.LGBMRegressor(**best_params)\n",
    "lgb_model.fit(X, y)"
   ],
   "id": "a6a32ce8bd281fa8",
   "outputs": [],
   "execution_count": null
  },
  {
   "metadata": {},
   "cell_type": "markdown",
   "source": "### Po optunie",
   "id": "82ba3e6f1e70ba1f"
  },
  {
   "metadata": {},
   "cell_type": "code",
   "source": [
    "lgb_model = define_lightgbm(study_lightgbm.best_trial)\n",
    "lgb_model.fit(X, y)"
   ],
   "id": "f3ad22a746458b9e",
   "outputs": [],
   "execution_count": null
  },
  {
   "metadata": {},
   "cell_type": "code",
   "source": [
    "cat_model = define_catboost(study_catboost.best_trial)\n",
    "cat_model.fit(X, y)"
   ],
   "id": "de3c209b222e41cc",
   "outputs": [],
   "execution_count": null
  },
  {
   "metadata": {},
   "cell_type": "markdown",
   "source": [
    "### Validate model\n",
    "(just to be here)"
   ],
   "id": "5bb9d15f4834ec1a"
  },
  {
   "metadata": {},
   "cell_type": "code",
   "source": [
    "lightgbm_params = ['max_bin', 'num_leaves', 'max_depth', 'learning_rate', 'n_estimators', 'bagging_fraction', 'colsample_bytree', 'min_data_in_leaf']\n",
    "lgb_pred = lgb_model.predict(X_test)\n",
    "root_mean_squared_error(y_test, lgb_pred)"
   ],
   "id": "f7886c5d8c7629f4",
   "outputs": [],
   "execution_count": null
  },
  {
   "metadata": {},
   "cell_type": "code",
   "source": [
    "from sklearn.model_selection import LearningCurveDisplay\n",
    "\n",
    "\n",
    "LearningCurveDisplay.from_estimator(lgb_model, X, y, cv=GroupKFold(n_splits=X['DayOfWeek'].nunique()), groups=X['DayOfWeek'], n_jobs=-1, random_state=4, scoring='neg_root_mean_squared_error')"
   ],
   "id": "213c43252d3eaa43",
   "outputs": [],
   "execution_count": null
  },
  {
   "metadata": {},
   "cell_type": "code",
   "source": [
    "from sklearn.model_selection import LearningCurveDisplay\n",
    "\n",
    "\n",
    "LearningCurveDisplay.from_estimator(cat_model, X, y, cv=GroupKFold(n_splits=X['DayOfWeek'].nunique()), groups=X['DayOfWeek'], n_jobs=-1, random_state=4, scoring='neg_root_mean_squared_error')"
   ],
   "id": "37cc7c4948692b5d",
   "outputs": [],
   "execution_count": null
  },
  {
   "metadata": {},
   "cell_type": "markdown",
   "source": "### Best params",
   "id": "84042cc2e7b1b0de"
  },
  {
   "metadata": {},
   "cell_type": "code",
   "source": "study_lightgbm.best_params",
   "id": "d62bb30f767aeac2",
   "outputs": [],
   "execution_count": null
  },
  {
   "metadata": {},
   "cell_type": "code",
   "source": "study_catboost.best_params",
   "id": "e1ddef4089752aad",
   "outputs": [],
   "execution_count": null
  },
  {
   "metadata": {},
   "cell_type": "code",
   "source": [
    "def save_to_csv(y_pred, save_as):\n",
    "    if 'result' not in os.listdir(os.getcwd()):\n",
    "        os.mkdir('result')\n",
    "    final_df = pd.concat([test_ids, pd.DataFrame.from_dict({'GT_NO2': y_pred})], axis=1)\n",
    "    final_df.to_csv(os.path.join('result', save_as), index=False)\n",
    "    \n",
    "save_to_csv(lgb_model.predict(test), 'lightgbm.csv')"
   ],
   "id": "c16ffef23cd7ed56",
   "outputs": [],
   "execution_count": null
  },
  {
   "metadata": {},
   "cell_type": "code",
   "source": "lgb.plot_importance(lgb_model, figsize=(20, 12), dpi=200)",
   "id": "bdd04a98711af5b5",
   "outputs": [],
   "execution_count": null
  },
  {
   "metadata": {},
   "cell_type": "code",
   "source": "lgb.plot_tree(lgb_model, precision=2, figsize=(20, 12), show_info=['data_percentage'], dpi=600, orientation='vertical')",
   "id": "591c72856cf1e844",
   "outputs": [],
   "execution_count": null
  },
  {
   "metadata": {},
   "cell_type": "code",
   "source": [
    "xd = pd.read_csv(os.path.join('result', 'lightgbm.csv'), header=0)\n",
    "xd['GT_NO2'] *= 0.94\n",
    "xd.to_csv(os.path.join('result', 'lightgbm_even_better.csv'), index=False)"
   ],
   "id": "f42d8225a5b2d402",
   "outputs": [],
   "execution_count": null
  },
  {
   "metadata": {},
   "cell_type": "code",
   "source": [
    "predictions = 0.5 * lgb_model.predict(test) + 0.5 * cat_model.predict(test)\n",
    "\n",
    "save_to_csv(predictions, 'cat_lgb_fifty_fifty.csv')"
   ],
   "id": "6b76194a5b3f7b20",
   "outputs": [],
   "execution_count": null
  }
 ],
 "metadata": {
  "kernelspec": {
   "display_name": "Python 3",
   "language": "python",
   "name": "python3"
  },
  "language_info": {
   "codemirror_mode": {
    "name": "ipython",
    "version": 2
   },
   "file_extension": ".py",
   "mimetype": "text/x-python",
   "name": "python",
   "nbconvert_exporter": "python",
   "pygments_lexer": "ipython2",
   "version": "2.7.6"
  }
 },
 "nbformat": 4,
 "nbformat_minor": 5
}
