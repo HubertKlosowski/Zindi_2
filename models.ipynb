{
 "cells": [
  {
   "metadata": {},
   "cell_type": "code",
   "source": [
    "import pandas as pd\n",
    "import os\n",
    "import numpy as np"
   ],
   "id": "975cc4e5475efc16",
   "outputs": [],
   "execution_count": null
  },
  {
   "metadata": {},
   "cell_type": "code",
   "source": [
    "test_ids = pd.read_csv(os.path.join('data', 'test.csv'))['ID_Zindi']\n",
    "train = pd.read_csv(os.path.join('prepared', 'train.csv'))\n",
    "test = pd.read_csv(os.path.join('prepared', 'test.csv'))\n",
    "\n",
    "train.info()"
   ],
   "id": "67a6d10e3f61fe09",
   "outputs": [],
   "execution_count": null
  },
  {
   "metadata": {},
   "cell_type": "code",
   "source": [
    "from sklearn.model_selection import train_test_split\n",
    "\n",
    "\n",
    "X, y = train.drop(columns=['GT_NO2'], axis=1), train['GT_NO2']\n",
    "X_train, X_test, y_train, y_test = train_test_split(X, y, test_size=0.3, random_state=4)\n",
    "\n",
    "X_train = pd.DataFrame(X_train, columns=X.columns)\n",
    "X_test = pd.DataFrame(X_test, columns=X.columns)"
   ],
   "id": "27e5c7c5d3ca73cc",
   "outputs": [],
   "execution_count": null
  },
  {
   "metadata": {},
   "cell_type": "code",
   "source": [
    "import lightgbm as lgb\n",
    "import optuna\n",
    "from sklearn.metrics import root_mean_squared_error\n",
    "from sklearn.model_selection import cross_val_score, GroupKFold\n",
    "from catboost import CatBoostRegressor"
   ],
   "id": "6f6a782593937f8a",
   "outputs": [],
   "execution_count": null
  },
  {
   "metadata": {},
   "cell_type": "code",
   "source": [
    "def define_lightgbm(trial):\n",
    "    params = {\n",
    "        'max_bin': trial.suggest_int('max_bin', 70, 250),\n",
    "        'num_leaves': trial.suggest_int('num_leaves', 150, 400),\n",
    "        'max_depth': trial.suggest_int('max_depth', 6, 15),\n",
    "        'learning_rate': trial.suggest_float('learning_rate', 2e-3, 1e-1, log=True),\n",
    "        'n_estimators': trial.suggest_int('n_estimators', 400, 700),\n",
    "        'bagging_fraction': trial.suggest_float('bagging_fraction', 0.6, 1.0, log=True),\n",
    "        'colsample_bytree': trial.suggest_float('colsample_bytree', 0.4, 0.8, log=True),\n",
    "        'min_data_in_leaf': trial.suggest_int('min_data_in_leaf', 100, 400),\n",
    "        'reg_lambda': trial.suggest_float('reg_lambda', 1e-2, 1, log=True),\n",
    "        'bagging_freq': trial.suggest_int('bagging_freq', 1, 5),\n",
    "        'objective': 'root_mean_squared_error',\n",
    "        'boosting_type': 'gbdt',\n",
    "        'tree_learner': 'voting',\n",
    "        'device': 'cpu',\n",
    "        'n_jobs': -1,\n",
    "        'random_state': 4,\n",
    "        'verbosity': -1,\n",
    "    }\n",
    "    return lgb.LGBMRegressor(**params)\n",
    "\n",
    "def objective_lightgbm(trial):\n",
    "    model = define_lightgbm(trial)\n",
    "    gkf = GroupKFold(n_splits=X['Season'].nunique())\n",
    "    scores = cross_val_score(model, X, y, groups=X['Season'], cv=gkf, n_jobs=-1, scoring='neg_root_mean_squared_error')\n",
    "    return scores.mean() * (-1)"
   ],
   "id": "69f4d6e8604db578",
   "outputs": [],
   "execution_count": null
  },
  {
   "metadata": {},
   "cell_type": "code",
   "source": [
    "def define_catboost(trial):\n",
    "    params = {\n",
    "        'iterations': trial.suggest_int('iterations', 100, 400),\n",
    "        'learning_rate': trial.suggest_float('learning_rate', 1e-3, 1e-1, log=True),\n",
    "        'depth': trial.suggest_int('depth', 5, 12),\n",
    "        'subsample': trial.suggest_float('subsample', 0.4, 1.0, log=True),\n",
    "        'colsample_bylevel': trial.suggest_float('colsample_bylevel', 0.4, 1.0, log=True),\n",
    "        'min_data_in_leaf': trial.suggest_int('min_data_in_leaf', 1, 100),\n",
    "        'random_state': 4,\n",
    "        'cat_features': ['Season', 'DayOfWeek', 'Week', 'Year', 'Month'],\n",
    "    }\n",
    "    return CatBoostRegressor(**params, silent=True)\n",
    "\n",
    "def objective_catboost(trial):\n",
    "    model = define_catboost(trial)\n",
    "    gkf = GroupKFold(n_splits=X['Season'].nunique())\n",
    "    scores = cross_val_score(model, X, y, groups=X['Season'], cv=gkf, n_jobs=-1, scoring='neg_root_mean_squared_error')\n",
    "    return scores.mean() * (-1)"
   ],
   "id": "3f79854276b3f552",
   "outputs": [],
   "execution_count": null
  },
  {
   "metadata": {},
   "cell_type": "code",
   "source": [
    "study_lightgbm = optuna.create_study(direction='minimize', study_name='GeoAIWithLightGBM', sampler=optuna.samplers.TPESampler())\n",
    "study_lightgbm.optimize(objective_lightgbm, n_trials=100)"
   ],
   "id": "d776095f46481ac2",
   "outputs": [],
   "execution_count": null
  },
  {
   "metadata": {},
   "cell_type": "code",
   "source": [
    "study_catboost = optuna.create_study(direction='minimize', study_name='GeoAIWithCatBoost', sampler=optuna.samplers.TPESampler())\n",
    "study_catboost.optimize(objective_catboost, n_trials=100)"
   ],
   "id": "52f65858d457ee4b",
   "outputs": [],
   "execution_count": null
  },
  {
   "metadata": {},
   "cell_type": "code",
   "source": [
    "# best_params =  {'max_bin': 84, 'num_leaves': 269, 'max_depth': 11, 'learning_rate': 0.009567724370102485, 'n_estimators': 621, 'bagging_fraction': 0.6947463877737182, 'colsample_bytree': 0.40279034207476644, 'min_data_in_leaf': 111, 'reg_lambda': 0.14810770431354064, 'bagging_freq': 1, 'device': 'cpu', 'n_jobs': -1, 'random_state': 4, 'verbosity': -1, 'tree_learner': 'voting', 'objective': 'root_mean_squared_error', 'boosting_type': 'gbdt'}\n",
    "# \n",
    "# lgb_model = lgb.LGBMRegressor(**best_params)\n",
    "# lgb_model.fit(X, y)"
   ],
   "id": "ff1f9fd31aa1ee71",
   "outputs": [],
   "execution_count": null
  },
  {
   "metadata": {},
   "cell_type": "code",
   "source": [
    "lgb_model = define_lightgbm(study_lightgbm.best_trial)\n",
    "lgb_model.fit(X, y)"
   ],
   "id": "e0086321b3c40986",
   "outputs": [],
   "execution_count": null
  },
  {
   "metadata": {},
   "cell_type": "code",
   "source": [
    "cat_model = define_catboost(study_catboost.best_trial)\n",
    "cat_model.fit(X, y)"
   ],
   "id": "9ba151b52080c50",
   "outputs": [],
   "execution_count": null
  },
  {
   "metadata": {},
   "cell_type": "code",
   "source": [
    "lightgbm_params = ['max_bin', 'num_leaves', 'max_depth', 'learning_rate', 'n_estimators', 'bagging_fraction', 'colsample_bytree', 'min_data_in_leaf']\n",
    "lgb_pred = lgb_model.predict(X_test)\n",
    "root_mean_squared_error(y_test, lgb_pred)"
   ],
   "id": "f5768128e9c36000",
   "outputs": [],
   "execution_count": null
  },
  {
   "metadata": {},
   "cell_type": "code",
   "source": [
    "from sklearn.model_selection import LearningCurveDisplay\n",
    "\n",
    "\n",
    "LearningCurveDisplay.from_estimator(lgb_model, X, y, cv=GroupKFold(n_splits=X['Season'].nunique()), groups=X['Season'], n_jobs=-1, random_state=4, scoring='neg_root_mean_squared_error')"
   ],
   "id": "1de1a242bd51abd6",
   "outputs": [],
   "execution_count": null
  },
  {
   "metadata": {},
   "cell_type": "code",
   "source": [
    "from sklearn.model_selection import LearningCurveDisplay\n",
    "\n",
    "\n",
    "LearningCurveDisplay.from_estimator(cat_model, X, y, cv=GroupKFold(n_splits=X['Season'].nunique()), groups=X['Season'], n_jobs=-1, random_state=4, scoring='neg_root_mean_squared_error')"
   ],
   "id": "17485035c27b3912",
   "outputs": [],
   "execution_count": null
  },
  {
   "metadata": {},
   "cell_type": "code",
   "source": "study_lightgbm.best_params",
   "id": "19cf17b5025203b9",
   "outputs": [],
   "execution_count": null
  },
  {
   "metadata": {},
   "cell_type": "code",
   "source": "study_catboost.best_params",
   "id": "a3b1d3f49fcaa08",
   "outputs": [],
   "execution_count": null
  },
  {
   "metadata": {},
   "cell_type": "code",
   "source": [
    "def save_to_csv(y_pred, save_as):\n",
    "    if 'result' not in os.listdir(os.getcwd()):\n",
    "        os.mkdir('result')\n",
    "    final_df = pd.concat([test_ids, pd.DataFrame.from_dict({'GT_NO2': y_pred})], axis=1)\n",
    "    final_df.to_csv(os.path.join('result', save_as), index=False)\n",
    "    \n",
    "save_to_csv(lgb_model.predict(test), 'lightgbm.csv')"
   ],
   "id": "9bee2c3177e3a5f6",
   "outputs": [],
   "execution_count": null
  },
  {
   "metadata": {},
   "cell_type": "code",
   "source": "save_to_csv(cat_model.predict(test), 'cat_boost.csv')",
   "id": "117315a14d507f71",
   "outputs": [],
   "execution_count": null
  },
  {
   "metadata": {},
   "cell_type": "code",
   "source": "lgb.plot_importance(lgb_model, figsize=(20, 12), dpi=200)",
   "id": "c4ab30c5f81edbbf",
   "outputs": [],
   "execution_count": null
  },
  {
   "metadata": {},
   "cell_type": "code",
   "source": "lgb.plot_tree(lgb_model, precision=2, figsize=(20, 12), show_info=['data_percentage'], dpi=600, orientation='vertical')",
   "id": "820cfb7d0d4e791f",
   "outputs": [],
   "execution_count": null
  },
  {
   "metadata": {},
   "cell_type": "code",
   "source": [
    "xd = pd.read_csv(os.path.join('result', 'lightgbm.csv'), header=0)\n",
    "rand = np.random.rand(len(xd),)\n",
    "pd.DataFrame(rand, columns=['random']).to_csv(os.path.join('result', 'random.csv'), index=False)\n",
    "# xd['GT_NO2'] *= 0.97\n",
    "xd['GT_NO2'] -= rand\n",
    "xd.to_csv(os.path.join('result', 'lightgbm_even_better.csv'), index=False)"
   ],
   "id": "46f9bc05bc2f5f93",
   "outputs": [],
   "execution_count": null
  },
  {
   "metadata": {},
   "cell_type": "code",
   "source": [
    "predictions = 0.5 * lgb_model.predict(test) + 0.5 * cat_model.predict(test)\n",
    "\n",
    "save_to_csv(predictions, 'cat_lgb_fifty_fifty.csv')"
   ],
   "id": "ac6b2c2e548e89b",
   "outputs": [],
   "execution_count": null
  }
 ],
 "metadata": {
  "kernelspec": {
   "display_name": "Python 3",
   "language": "python",
   "name": "python3"
  },
  "language_info": {
   "codemirror_mode": {
    "name": "ipython",
    "version": 2
   },
   "file_extension": ".py",
   "mimetype": "text/x-python",
   "name": "python",
   "nbconvert_exporter": "python",
   "pygments_lexer": "ipython2",
   "version": "2.7.6"
  }
 },
 "nbformat": 4,
 "nbformat_minor": 5
}
