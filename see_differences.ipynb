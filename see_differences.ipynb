{
 "cells": [
  {
   "cell_type": "code",
   "id": "initial_id",
   "metadata": {
    "collapsed": true
   },
   "source": [
    "import pandas as pd\n",
    "import os"
   ],
   "outputs": [],
   "execution_count": null
  },
  {
   "metadata": {},
   "cell_type": "code",
   "source": [
    "train = pd.read_csv(os.path.join('prepared', 'train.csv'))\n",
    "test = pd.read_csv(os.path.join('prepared', 'test.csv'))\n",
    "\n",
    "train.drop(columns=['GT_NO2'], inplace=True)"
   ],
   "id": "6ee68f63b7ca3279",
   "outputs": [],
   "execution_count": null
  },
  {
   "metadata": {},
   "cell_type": "code",
   "source": [
    "train['is_train'] = 1\n",
    "test['is_train'] = 0\n",
    "whole = pd.concat([train, test], axis=0, ignore_index=True).reset_index(drop=True)\n",
    "\n",
    "whole.info()"
   ],
   "id": "d2889192aab5b27f",
   "outputs": [],
   "execution_count": null
  },
  {
   "metadata": {},
   "cell_type": "code",
   "source": "whole['is_train'].value_counts()",
   "id": "1366da4d34e850d",
   "outputs": [],
   "execution_count": null
  },
  {
   "metadata": {},
   "cell_type": "code",
   "source": [
    "from sklearn.model_selection import train_test_split\n",
    "\n",
    "\n",
    "X, y = whole.drop(columns=['is_train'], axis=1), whole['is_train']\n",
    "X_train, X_test, y_train, y_test = train_test_split(X, y, test_size=0.3, random_state=4)\n",
    "X_train = pd.DataFrame(X_train, columns=X.columns)\n",
    "X_test = pd.DataFrame(X_test, columns=X.columns)"
   ],
   "id": "e417d08fcd6a80ea",
   "outputs": [],
   "execution_count": null
  },
  {
   "metadata": {},
   "cell_type": "code",
   "source": [
    "import lightgbm as lgb\n",
    "import optuna\n",
    "from sklearn.model_selection import cross_val_score, GroupKFold\n",
    "\n",
    "\n",
    "def define_model(trial):\n",
    "    params = {\n",
    "        'boosting_type': 'gbdt',\n",
    "        'objective': 'binary',\n",
    "        'max_bin': trial.suggest_int('max_bin', 10, 20),\n",
    "        'num_leaves': trial.suggest_int('num_leaves', 10, 50),\n",
    "        'max_depth': trial.suggest_int('max_depth', 5, 8),\n",
    "        'learning_rate': trial.suggest_float('learning_rate', 1e-4, 1e-2, log=True),\n",
    "        'n_estimators': trial.suggest_int('n_estimators', 200, 500),\n",
    "        'tree_learner': 'voting',\n",
    "        'bagging_fraction': trial.suggest_float('bagging_fraction', 0.6, 1.0, log=True),\n",
    "        'colsample_bytree': trial.suggest_float('colsample_bytree', 0.4, 0.8, log=True),\n",
    "        'min_data_in_leaf': trial.suggest_int('min_data_in_leaf', 50, 250),\n",
    "        'reg_lambda': trial.suggest_float('reg_lambda', 1e-2, 1e-1, log=True),\n",
    "        'bagging_freq': trial.suggest_int('bagging_freq', 1, 5),\n",
    "        'device': 'cpu',\n",
    "        'n_jobs': -1,\n",
    "        'random_state': 4,\n",
    "        'verbosity': -1,\n",
    "        'is_unbalance': True,\n",
    "    }\n",
    "    return lgb.LGBMClassifier(**params)\n",
    "\n",
    "def objective(trial):\n",
    "    model = define_model(trial)\n",
    "    gkf = GroupKFold(n_splits=X['Season'].nunique())\n",
    "    scores = cross_val_score(model, X, y, groups=X['Season'], cv=gkf, n_jobs=-1, scoring='accuracy')\n",
    "    return scores.mean()"
   ],
   "id": "cd2088366457fc52",
   "outputs": [],
   "execution_count": null
  },
  {
   "metadata": {},
   "cell_type": "code",
   "source": [
    "study_lightgbm = optuna.create_study(direction='maximize', study_name='GeoAIWithLightGBM', sampler=optuna.samplers.TPESampler())\n",
    "study_lightgbm.optimize(objective, n_trials=50)"
   ],
   "id": "34dc6d940ed2cb81",
   "outputs": [],
   "execution_count": null
  },
  {
   "metadata": {},
   "cell_type": "code",
   "source": [
    "lightgbm = define_model(study_lightgbm.best_trial)\n",
    "lightgbm.fit(X_train, y_train)"
   ],
   "id": "825bb0c683fb75fd",
   "outputs": [],
   "execution_count": null
  },
  {
   "metadata": {},
   "cell_type": "code",
   "source": [
    "from sklearn.metrics import classification_report\n",
    "\n",
    "\n",
    "print(classification_report(y_test, lightgbm.predict(X_test)))"
   ],
   "id": "686124fa62bf2bbb",
   "outputs": [],
   "execution_count": null
  },
  {
   "metadata": {},
   "cell_type": "code",
   "source": "lgb.plot_importance(lightgbm, figsize=(20, 12), dpi=200)",
   "id": "fec028407b80d119",
   "outputs": [],
   "execution_count": null
  },
  {
   "metadata": {},
   "cell_type": "code",
   "source": "lgb.plot_tree(lightgbm, precision=2, figsize=(20, 12), show_info=['data_percentage'], dpi=200, orientation='vertical')",
   "id": "8dfb567308f21463",
   "outputs": [],
   "execution_count": null
  },
  {
   "metadata": {},
   "cell_type": "code",
   "source": [
    "from sklearn.metrics import ConfusionMatrixDisplay\n",
    "\n",
    "\n",
    "ConfusionMatrixDisplay.from_predictions(y_true=y_test, y_pred=lightgbm.predict(X_test), cmap='Greys')"
   ],
   "id": "4c941de3168909be",
   "outputs": [],
   "execution_count": null
  },
  {
   "metadata": {},
   "cell_type": "code",
   "source": [
    "from sklearn.model_selection import LearningCurveDisplay\n",
    "\n",
    "\n",
    "LearningCurveDisplay.from_estimator(lightgbm, X, y, cv=GroupKFold(n_splits=X['Season'].nunique()), groups=X['Season'], n_jobs=-1, random_state=4, scoring='accuracy')"
   ],
   "id": "c64d579943c87b88",
   "outputs": [],
   "execution_count": null
  }
 ],
 "metadata": {
  "kernelspec": {
   "display_name": "Python 3",
   "language": "python",
   "name": "python3"
  },
  "language_info": {
   "codemirror_mode": {
    "name": "ipython",
    "version": 2
   },
   "file_extension": ".py",
   "mimetype": "text/x-python",
   "name": "python",
   "nbconvert_exporter": "python",
   "pygments_lexer": "ipython2",
   "version": "2.7.6"
  }
 },
 "nbformat": 4,
 "nbformat_minor": 5
}
